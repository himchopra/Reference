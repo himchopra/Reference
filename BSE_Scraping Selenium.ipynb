{
 "cells": [
  {
   "cell_type": "code",
   "execution_count": 1,
   "metadata": {
    "collapsed": false
   },
   "outputs": [
    {
     "name": "stdout",
     "output_type": "stream",
     "text": [
      "Time Taken: 0:01:20.506946\n"
     ]
    }
   ],
   "source": [
    "from selenium import webdriver\n",
    "from selenium.webdriver.common.keys import Keys\n",
    "import pandas as pd\n",
    "import sqlite3\n",
    "import datetime\n",
    "import os\n",
    "import time\n",
    "\n",
    "start_time = datetime.datetime.now()\n",
    "driver = webdriver.Chrome()\n",
    "driver.get(\"http://www.bseindia.com/markets/equity/EQReports/StockPrcHistori.aspx?expandable=7&flag=0\")\n",
    "#driver.get(\"http://www.bseindia.com/markets/equity/EQReports/StockPrcHistori.aspx?expandable=7&scripcode=532532&flag=sp&Submit=G\")\n",
    "\n",
    "# Create Sqlite3 connection\n",
    "conn = sqlite3.connect(\"scrapper_db\")\n",
    "cursor = conn.cursor()\n",
    "print 'Time Taken:', datetime.datetime.now() - start_time"
   ]
  },
  {
   "cell_type": "code",
   "execution_count": 2,
   "metadata": {
    "collapsed": true
   },
   "outputs": [],
   "source": [
    "def move_to_db(stock_code):\n",
    "    download_loc = \"/home/himanshuchopra/Downloads/\"\n",
    "    data_path = download_loc + stock_code + \".csv\"\n",
    "    data_file = pd.read_csv(data_path)\n",
    "\n",
    "    for value in data_file.iterrows():\n",
    "        data_date = datetime.datetime.strptime(value[1][0],'%d-%B-%Y')\n",
    "        #stock_code : Defined earlier\n",
    "        open_price = value[1][1]\n",
    "        high_price = value[1][2]\n",
    "        low_price = value[1][3]\n",
    "        close_price = value[1][4]\n",
    "        wap = value[1][5]\n",
    "        no_of_shares = value[1][6]\n",
    "        no_of_trades = value[1][7]\n",
    "        tot_turnover = value[1][8]\n",
    "        delivb_qty = value[1][9]\n",
    "        perct_deli_tra_qty = value[1][10]\n",
    "        spread_hl = value[1][11]\n",
    "        spread_co = value[1][12]\n",
    "        n_created = datetime.datetime.now()\n",
    "        to_db = (data_date, stock_code, open_price, high_price, low_price, close_price, wap, no_of_shares, no_of_trades,\n",
    "                 tot_turnover, delivb_qty, perct_deli_tra_qty, spread_hl, spread_co, n_created)\n",
    "        cursor.execute((\"INSERT INTO stocks_data_int VALUES (?,?,?,?,?,?,?,?,?,?,?,?,?,?,?);\"), to_db)\n",
    "    conn.commit()\n",
    "    \n",
    "def delete_file(stock_code):\n",
    "    try:\n",
    "        os.remove(\"/home/himanshuchopra/Downloads/\" + stock_code + \".csv\")\n",
    "    except:\n",
    "        pass"
   ]
  },
  {
   "cell_type": "code",
   "execution_count": null,
   "metadata": {
    "collapsed": true
   },
   "outputs": [],
   "source": [
    "query = \"\"\"select sc.stock_code, (case when scr.last_data_date is null then '2016-01-01' else last_data_date end) as min_date\n",
    "            from stocks_config sc\n",
    "            left join stocks_config_runlog scr on sc.stock_code = scr.stock_code and sc.exchange = scr.exchange;\"\"\"\n",
    "stocks = pd.read_sql(query, con=conn)\n",
    "i = 0\n",
    "for key, value in stocks.iterrows():\n",
    "    \n",
    "    start_time = datetime.datetime.now()\n",
    "    #Search stock based on stock id\n",
    "    stock_element = driver.find_element_by_id('ctl00_ContentPlaceHolder1_GetQuote1_smartSearch')\n",
    "    stock_element.clear()\n",
    "    for i in range(0,len(value['stock_code'])):      \n",
    "        stock_element.send_keys(value['stock_code'][i])\n",
    "        time.sleep(1)\n",
    "    stock_element.send_keys(Keys.RETURN)\n",
    "    stock_element.send_keys(Keys.RETURN)   \n",
    "    \n",
    "    #Input From Date\n",
    "    from_date_element = driver.find_element_by_id(\"ctl00_ContentPlaceHolder1_txtFromDate\")\n",
    "    from_date_element.clear()\n",
    "    from_date_value = datetime.datetime.strptime(value['min_date'], '%Y-%m-%d').strftime('%d/%m/%Y')\n",
    "    from_date_element.send_keys(from_date_value)\n",
    "    #Input to Date\n",
    "    to_date_element = driver.find_element_by_id(\"ctl00_ContentPlaceHolder1_txtToDate\")\n",
    "    to_date_element.click()\n",
    "    calendar_element = driver.find_element_by_class_name(\"current\")\n",
    "    calendar_element.click()\n",
    "    #Click on Submit\n",
    "    submit_element = driver.find_element_by_id(\"ctl00_ContentPlaceHolder1_btnSubmit\")\n",
    "    submit_element.click()\n",
    "    #Click on Download\n",
    "    download_element = driver.find_element_by_id(\"ctl00_ContentPlaceHolder1_btnDownload1\")\n",
    "    download_element.send_keys(Keys.RETURN)\n",
    "    time.sleep(4)\n",
    "    #Get data into database\n",
    "    move_to_db(value['stock_code'])\n",
    "    #Delete File\n",
    "    delete_file(value['stock_code'])\n",
    "    print 'Time Taken for', value['stock_code'], datetime.datetime.now() - start_time\n",
    "    if i == 10:\n",
    "        break\n",
    "    else:\n",
    "        i = i + 1"
   ]
  },
  {
   "cell_type": "code",
   "execution_count": 4,
   "metadata": {
    "collapsed": false
   },
   "outputs": [],
   "source": [
    "# Delete duplicate data from stocks_data\n",
    "query = \"\"\"delete from stocks_data\n",
    "where exists(select sd.data_date, sd.stock_code \n",
    "                from stocks_data sd \n",
    "                join stocks_data_int on stocks_data_int.data_date = stocks_data.data_date and \n",
    "                                        stocks_data_int.stock_code = stocks_data.stock_code);\"\"\"\n",
    "cursor.execute(query)\n",
    "\n",
    "# Insert data in stocks_data\n",
    "query = \"\"\"insert into stocks_data\n",
    "select * from stocks_data_int;\"\"\"\n",
    "cursor.execute(query)\n",
    "\n",
    "# Truncate stocks_data_int\n",
    "query = \"\"\"delete from stocks_data_int;\"\"\"\n",
    "cursor.execute(query)\n",
    "conn.commit()\n",
    "\n",
    "# Update stocks_config_runlog\n",
    "\n",
    "query = \"\"\"insert into stocks_config_runlog\n",
    "select sc.stock_code, sc.exchange, date(min_date), date(max_date), last_run, 'himanshu.chopra'\n",
    "from stocks_config sc\n",
    "join (select stock_code, min(data_date) as min_date, max(data_date) as max_date, max(n_created) as last_run\n",
    "from stocks_data\n",
    "group by 1) sd on sc.stock_code = sd.stock_code;\"\"\"\n",
    "cursor.execute(query)\n",
    "conn.commit()"
   ]
  }
 ],
 "metadata": {
  "kernelspec": {
   "display_name": "Python 2",
   "language": "python",
   "name": "python2"
  },
  "language_info": {
   "codemirror_mode": {
    "name": "ipython",
    "version": 2
   },
   "file_extension": ".py",
   "mimetype": "text/x-python",
   "name": "python",
   "nbconvert_exporter": "python",
   "pygments_lexer": "ipython2",
   "version": "2.7.13"
  }
 },
 "nbformat": 4,
 "nbformat_minor": 2
}
